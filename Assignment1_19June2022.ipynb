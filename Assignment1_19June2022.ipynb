{
 "cells": [
  {
   "cell_type": "code",
   "execution_count": 3,
   "id": "ee5fc516",
   "metadata": {},
   "outputs": [
    {
     "name": "stdout",
     "output_type": "stream",
     "text": [
      "<class 'int'>\n",
      "1871316085648\n"
     ]
    }
   ],
   "source": [
    "#Q. Declare an int value and store it in a variable.\n",
    "#Check the type and print the id of the same\n",
    "var1 = 20\n",
    "print(type(var1))\n",
    "print(id(var1))"
   ]
  },
  {
   "cell_type": "code",
   "execution_count": 10,
   "id": "374acd63",
   "metadata": {},
   "outputs": [
    {
     "name": "stdout",
     "output_type": "stream",
     "text": [
      "1871316085648 1871316085648\n",
      "Value is same, because memory allocation reusability is valid b/w 0 to 256 in python\n"
     ]
    }
   ],
   "source": [
    "#Q. Take one int value between 0 - 256.\n",
    "#Assign it to two different variables.\n",
    "#Check the id of both the variables. It should come the same. Check why?\n",
    "var2 = 20\n",
    "var3 = 20\n",
    "print(id(var2),id(var3))\n",
    "print(\"Value is same, because memory allocation reusability is valid b/w 0 to 256 in python\")"
   ]
  },
  {
   "cell_type": "code",
   "execution_count": 12,
   "id": "1ddaf4e3",
   "metadata": {},
   "outputs": [
    {
     "name": "stdout",
     "output_type": "stream",
     "text": [
      "1871402618064 1871402618128\n",
      "Value is different, because memory allocation reusability is valid only b/w 0 to 256 in python\n"
     ]
    }
   ],
   "source": [
    "#Q. Take one int value either less than -5 or greater than 256.\n",
    "#Assign it to two different variables.\n",
    "#Check the id of both the variables. It should come different.Check why?\n",
    "var4 = 320\n",
    "var5 = 320\n",
    "print(id(var4),id(var5))\n",
    "print(\"Value is different, because memory allocation reusability is valid only b/w 0 to 256 in python\")"
   ]
  },
  {
   "cell_type": "code",
   "execution_count": 18,
   "id": "5f794ba8",
   "metadata": {},
   "outputs": [
    {
     "name": "stdout",
     "output_type": "stream",
     "text": [
      "Sum is: 123\n",
      "Difference is: -73\n",
      "Product is: 2450\n",
      "division is: 0.25510204081632654\n",
      "Remainder is: 25\n",
      "quotient is: 0\n",
      "power is: 99568244445778267314305024860481987849444034699538674129617865836635181344566135058943117170011417871311465432881959713995456695556640625\n"
     ]
    }
   ],
   "source": [
    "# Q. Arithmetic Operations on integers\n",
    "# Take two different integer values.\n",
    "# Store them in two different variables.\n",
    "var6 = 25\n",
    "var7 = 98\n",
    "# Do below operations on them:-\n",
    "# Find sum of both numbers\n",
    "print(\"Sum is:\",var6 + var7)\n",
    "# Find difference between them\n",
    "print(\"Difference is:\",var6 - var7)\n",
    "# Find the product of both numbers.\n",
    "print(\"Product is:\",var6 * var7)\n",
    "# Find value after dividing first num with second number\n",
    "print(\"division is:\",var6/var7)\n",
    "# Find the remainder after dividing first number with second number\n",
    "print(\"Remainder is:\",var6%var7)\n",
    "# Find the quotient after dividing first number with second number\n",
    "print(\"quotient is:\",var6//var7)\n",
    "# Find the result of the first num to the power of the second number.\n",
    "print(\"power is:\",var6**var7)\n",
    "\n"
   ]
  },
  {
   "cell_type": "code",
   "execution_count": 25,
   "id": "b20bf207",
   "metadata": {},
   "outputs": [
    {
     "name": "stdout",
     "output_type": "stream",
     "text": [
      "False\n",
      "True\n",
      "False\n",
      "True\n"
     ]
    }
   ],
   "source": [
    "# Q. Comparison Operators on integers\n",
    "# Take two different integer values.\n",
    "# Store them in two different variables.\n",
    "var8 = 50\n",
    "var9 = 75\n",
    "# Do below operations on them:-\n",
    "# Compare se two numbers with below operator:-\n",
    "# Greater than, '>'\n",
    "print(var8 > var9)\n",
    "# Smaller than, '<'\n",
    "print(var8 < var9)\n",
    "# Greater than or equal to, '>='\n",
    "print(var8 >= var9)\n",
    "# Less than or equal to, '<='\n",
    "print(var8 <= var9)\n",
    "# Observe their output(return type should be boolean)"
   ]
  },
  {
   "cell_type": "code",
   "execution_count": 26,
   "id": "262df6d3",
   "metadata": {},
   "outputs": [
    {
     "name": "stdout",
     "output_type": "stream",
     "text": [
      "False True\n"
     ]
    }
   ],
   "source": [
    "# Q. Equality Operator\n",
    "# Take two different integer values.\n",
    "# Store them in two different variables.\n",
    "var10 = 27\n",
    "var11 = 45\n",
    "# Equate them using equality operators (==, !=)\n",
    "print(var10 == var11, var10 != var11)\n",
    "# Observe the output(return type should be boolean)"
   ]
  },
  {
   "cell_type": "code",
   "execution_count": 29,
   "id": "1308e5f7",
   "metadata": {},
   "outputs": [
    {
     "name": "stdout",
     "output_type": "stream",
     "text": [
      "20\n",
      "0\n",
      "0\n",
      "0\n",
      "10\n",
      "20\n",
      "20\n",
      "0\n",
      "False\n",
      "True\n"
     ]
    }
   ],
   "source": [
    "# Q. Logical operators\n",
    "# Observe the output of below code\n",
    "# Cross check the output manually\n",
    "print ( 10 and 20 )\n",
    "# #----------------------------------------->Output is 20\n",
    "print ( 0 and 20 )\n",
    "# #----------------------------------------->Output is 0\n",
    "print ( 20 and 0 )\n",
    "#----------------------------------------->Output is 0\n",
    "print ( 0 and 0 )\n",
    "#----------------------------------------->Output is 0\n",
    "print ( 10 or 20 )\n",
    "#----------------------------------------->Output is 10\n",
    "print ( 0 or 20 )\n",
    "#----------------------------------------->Output is 20\n",
    "print ( 20 or 0 )\n",
    "#----------------------------------------->Output is 20\n",
    "print ( 0 or 0 )\n",
    "#----------------------------------------->Output is 0\n",
    "print ( not 10 )\n",
    "#----------------------------------------->Output is False\n",
    "print ( not 0 )\n",
    "#----------------------------------------->Output is True"
   ]
  },
  {
   "cell_type": "code",
   "execution_count": 42,
   "id": "b7c5c89a",
   "metadata": {},
   "outputs": [
    {
     "name": "stdout",
     "output_type": "stream",
     "text": [
      "0\n",
      "30\n",
      "30\n",
      "-11\n",
      "40\n",
      "2\n"
     ]
    }
   ],
   "source": [
    "# Q. Bitwise Operators\n",
    "# Do below operations on the values provided below:-\n",
    "\n",
    "# Bitwise and(&) -----------------------------------------> 10, 20\n",
    "#print(bin(10), bin(20))\n",
    "# 0b01010 \n",
    "# 0b10100\n",
    "# --------\n",
    "# 0b00000\n",
    "# --------\n",
    "print(0b00000)\n",
    "# -------> Output is 0\n",
    "\n",
    "#Bitwise or(|) -----------------------------------------> 10, 20\n",
    "# 0b01010 \n",
    "# 0b10100\n",
    "# 0b11110\n",
    "print(0b11110)\n",
    "#-------> Output is 30\n",
    "\n",
    "# Bitwise(^) -----------------------------------------> 10, 20\n",
    "# # 0b01010 \n",
    "# # 0b10100\n",
    "# # 0b11110\n",
    "print(0b11110)\n",
    "# -------> Output is 30\n",
    "\n",
    "# Bitwise negation(~) ------------------------------------> 10\n",
    "print(-1*(10+1))\n",
    "# -------> Output is -11\n",
    "\n",
    "# # Bitwise left shift ------------------------------------> 10,2\n",
    "# A*(2**n) - 10*(2**2)\n",
    "print(10 << 2)\n",
    "# # -------> Output is 40\n",
    "\n",
    "# # Bitwise right shift ------------------------------------> 10,2\n",
    "#A//(2**n) - 10//(2**2)\n",
    "print(10 >> 2)\n",
    "# # -------> Output is 2\n",
    "\n",
    "# # Cross check the output manually\n"
   ]
  },
  {
   "cell_type": "code",
   "execution_count": 48,
   "id": "31f143c3",
   "metadata": {},
   "outputs": [
    {
     "name": "stdout",
     "output_type": "stream",
     "text": [
      "True\n",
      "False\n",
      "False\n",
      "True\n"
     ]
    }
   ],
   "source": [
    "# Q. What is the output of expression inside print statement. Cross check\n",
    "# before running the program.\n",
    "a = 10\n",
    "b = 10\n",
    "print(a is b) #True or False?   - \n",
    "#this is identitiy operator -Object reusability - True\n",
    "print(a is not b) #True or False?\n",
    "#False\n",
    "\n",
    "a = 1000\n",
    "b = 1000\n",
    "print(a is b) #True or False? - \n",
    "#False due to Object not reusabable \n",
    "print(a is not b) #True or False?\n",
    "#True"
   ]
  },
  {
   "cell_type": "code",
   "execution_count": 49,
   "id": "a23f4d7f",
   "metadata": {},
   "outputs": [
    {
     "name": "stdout",
     "output_type": "stream",
     "text": [
      "20\n"
     ]
    }
   ],
   "source": [
    "# What is the output of expression inside print statement. Cross check\n",
    "# before running the program.\n",
    "print ( 10 +( 10 * 32 )// 2 ** 5 & 20 +(~( -10 ))<< 2 )\n",
    "\n",
    "# 10 +( 10 * 32 )// 2 ** 5 & 20 +(~( -10 ))<< 2\n",
    "# 10 + 320 // 2 ** 5 & 20 +(~-10)<< 2\n",
    "# 10 + 320 // 2 ** 5 & 20 +9 <<2\n",
    "# 10 + 320 // 32 & 20 + 9 <<2\n",
    "# 10 + 10 & 20 + 9 <<2\n",
    "# 20 & 29 << 2\n",
    "# 20 & 116\n",
    "#  0b0010100\n",
    "#  0b1110100\n",
    "#  0b0010100\n",
    "# 20"
   ]
  },
  {
   "cell_type": "code",
   "execution_count": 57,
   "id": "d7ed8d95",
   "metadata": {},
   "outputs": [
    {
     "name": "stdout",
     "output_type": "stream",
     "text": [
      "True\n",
      "True\n",
      "True\n",
      "True\n",
      "True\n",
      "True\n"
     ]
    }
   ],
   "source": [
    "# Q. Membership operation\n",
    "# in, not in are two membership operators and it returns boolean value\n",
    "print ( '2' in 'Python2.7.8' ) #True\n",
    "print ( 10 in [ 10 , 10.20 , 10 + 20j , 'Python' ]) # True\n",
    "print ( 10 in ( 10 , 10.20 , 10 + 20j , 'Python' )) # True\n",
    "print ( 2 in { 1 , 2 , 3 }) # True\n",
    "print ( 3 in { 1 : 100 , 2 : 200 , 3 : 300 }) # True\n",
    "print ( 10 in range ( 20 )) # True"
   ]
  },
  {
   "cell_type": "code",
   "execution_count": 64,
   "id": "360cada5",
   "metadata": {},
   "outputs": [
    {
     "name": "stdout",
     "output_type": "stream",
     "text": [
      "integer can be represented in binary, octal or hexadecimal: 0b10100 0o31 0x19\n",
      "Convert 9876 to its binary, octal and hexadecimal equivalent is  0b10011010010100 0o23224 0x2694\n"
     ]
    }
   ],
   "source": [
    "# Q. An integer can be represented in binary, octal or hexadecimal form.\n",
    "# Declare one binary, one octal and one hexadecimal value and store them\n",
    "# in three different variables.\n",
    "var12 = 25\n",
    "bin_n = bin(20)\n",
    "oct_n = oct(25)\n",
    "hex_n = hex(25)\n",
    "print(\"integer can be represented in binary, octal or hexadecimal:\",bin_n,oct_n,hex_n)\n",
    "\n",
    "# Convert 9876 to its binary, octal and hexadecimal equivalent and print\n",
    "print(\"Convert 9876 to its binary, octal and hexadecimal equivalent is \",bin(9876),oct(9876),hex(9876))\n",
    "# their corresponding value."
   ]
  },
  {
   "cell_type": "code",
   "execution_count": 71,
   "id": "a0497803",
   "metadata": {},
   "outputs": [
    {
     "name": "stdout",
     "output_type": "stream",
     "text": [
      "80\n",
      "3870\n",
      "64222\n",
      "0b1010000\n",
      "0o7436\n",
      "0xfade\n",
      "0b1010000\n",
      "0b1111101011011110\n",
      "0o175336\n",
      "0o7436\n",
      "0x50\n",
      "0xfade\n",
      "if we do bin(bin_number), oct(oct_number, hex(hex_number) - we will get the same output. but Bin(oct) output is different)\n"
     ]
    }
   ],
   "source": [
    "# Q. What will be the output of following:-\n",
    "a = 0b1010000\n",
    "print (a)\n",
    "b = 0o7436\n",
    "print (b)\n",
    "c = 0xfade\n",
    "print (c)\n",
    "print ( bin ( 80 ))\n",
    "print ( oct ( 3870 ))\n",
    "print ( hex ( 64222 ))\n",
    "print ( bin ( 0b1010000))\n",
    "print ( bin ( 0xfade ))\n",
    "print ( oct ( 0xfade ))\n",
    "print ( oct ( 0o7436))\n",
    "print ( hex ( 0b1010000))\n",
    "print ( hex( 0xfade ))\n",
    "\n",
    "print(\"if we do bin(bin_number), oct(oct_number, hex(hex_number) - we will get the same output. but Bin(oct) output is different)\")"
   ]
  },
  {
   "cell_type": "code",
   "execution_count": null,
   "id": "47994b1f",
   "metadata": {},
   "outputs": [],
   "source": []
  }
 ],
 "metadata": {
  "kernelspec": {
   "display_name": "Python 3 (ipykernel)",
   "language": "python",
   "name": "python3"
  },
  "language_info": {
   "codemirror_mode": {
    "name": "ipython",
    "version": 3
   },
   "file_extension": ".py",
   "mimetype": "text/x-python",
   "name": "python",
   "nbconvert_exporter": "python",
   "pygments_lexer": "ipython3",
   "version": "3.9.12"
  }
 },
 "nbformat": 4,
 "nbformat_minor": 5
}
